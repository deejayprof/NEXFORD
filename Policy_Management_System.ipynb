{
  "nbformat": 4,
  "nbformat_minor": 0,
  "metadata": {
    "colab": {
      "provenance": [],
      "authorship_tag": "ABX9TyM0HXoRWozU8jPBtqyq8dVs",
      "include_colab_link": true
    },
    "kernelspec": {
      "name": "python3",
      "display_name": "Python 3"
    },
    "language_info": {
      "name": "python"
    }
  },
  "cells": [
    {
      "cell_type": "markdown",
      "metadata": {
        "id": "view-in-github",
        "colab_type": "text"
      },
      "source": [
        "<a href=\"https://colab.research.google.com/github/deejayprof/NEXFORD/blob/main/Policy_Management_System.ipynb\" target=\"_parent\"><img src=\"https://colab.research.google.com/assets/colab-badge.svg\" alt=\"Open In Colab\"/></a>"
      ]
    },
    {
      "cell_type": "code",
      "execution_count": 25,
      "metadata": {
        "id": "nqxxhTnrlahH"
      },
      "outputs": [],
      "source": [
        "from Policyholder import Policyholder\n",
        "from Product import Product\n",
        "from Payment import Payment"
      ]
    },
    {
      "cell_type": "code",
      "source": [
        "#Policyholder Class Implementation\n",
        "class Policyholder:\n",
        "    def __init__(self, policyholder_id, name, email, is_active=True):\n",
        "        \"\"\"\n",
        "        Initialize a Policyholder instance.\n",
        "        :param policyholder_id: Unique ID for the policyholder\n",
        "        :param name: Name of the policyholder\n",
        "        :param email: Email of the policyholder\n",
        "        :param is_active: Status of the policyholder (Active or Suspended)\n",
        "        \"\"\"\n",
        "        self.policyholder_id = policyholder_id\n",
        "        self.name = name\n",
        "        self.email = email\n",
        "        self.is_active = is_active\n",
        "\n",
        "    def register_policyholder(self):\n",
        "        \"\"\"\n",
        "        Register a policyholder.\n",
        "        \"\"\"\n",
        "        print(f\"Policyholder {self.name} (ID: {self.policyholder_id}) has been successfully registered.\")\n",
        "\n",
        "    def suspend_policyholder(self):\n",
        "        \"\"\"\n",
        "        Suspend a policyholder.\n",
        "        \"\"\"\n",
        "        if self.is_active:\n",
        "            self.is_active = False\n",
        "            print(f\"Policyholder {self.name} has been suspended.\")\n",
        "        else:\n",
        "            print(f\"Policyholder {self.name} is already suspended.\")\n",
        "\n",
        "    def reactivate_policyholder(self):\n",
        "        \"\"\"\n",
        "        Reactivate a suspended policyholder.\n",
        "        \"\"\"\n",
        "        if not self.is_active:\n",
        "            self.is_active = True\n",
        "            print(f\"Policyholder {self.name} has been reactivated.\")\n",
        "        else:\n",
        "            print(f\"Policyholder {self.name} is already active.\")\n",
        "\n",
        "    def display_details(self):\n",
        "        \"\"\"\n",
        "        Display policyholder details.\n",
        "        \"\"\"\n",
        "        status = \"Active\" if self.is_active else \"Suspended\"\n",
        "        print(f\"Policyholder ID: {self.policyholder_id}, Name: {self.name}, \"\n",
        "              f\"Email: {self.email}, Status: {status}\")\n"
      ],
      "metadata": {
        "id": "KCDFvlggn89T"
      },
      "execution_count": 11,
      "outputs": []
    },
    {
      "cell_type": "code",
      "source": [
        "#Policyholder Management\n",
        "# Create Policyholders\n",
        "policyholder1 = Policyholder(1, \"Samson Adejumo\", \"Samson@gmail.com\")\n",
        "policyholder2 = Policyholder(2, \"Nexford Student\", \"Nexford@gmail.com\")\n",
        "\n",
        "# Register policyholders\n",
        "policyholder1.register_policyholder()\n",
        "policyholder2.register_policyholder()\n",
        "\n",
        "# Suspend and reactivate policyholders\n",
        "print(\"\\nSuspending and reactivating policyholders:\")\n",
        "policyholder1.suspend_policyholder()\n",
        "policyholder1.reactivate_policyholder()\n",
        "policyholder2.reactivate_policyholder()\n",
        "policyholder2.suspend_policyholder()\n",
        "\n",
        "# Display details\n",
        "print(\"\\nDisplaying policyholder details:\")\n",
        "policyholder1.display_details()\n",
        "policyholder2.display_details()\n"
      ],
      "metadata": {
        "colab": {
          "base_uri": "https://localhost:8080/"
        },
        "id": "Sk6SEsv1n-p5",
        "outputId": "86f232b4-56d9-4132-92c1-324432eec798"
      },
      "execution_count": 13,
      "outputs": [
        {
          "output_type": "stream",
          "name": "stdout",
          "text": [
            "Policyholder Samson Adejumo (ID: 1) has been successfully registered.\n",
            "Policyholder Nexford Student (ID: 2) has been successfully registered.\n",
            "\n",
            "Suspending and reactivating policyholders:\n",
            "Policyholder Samson Adejumo has been suspended.\n",
            "Policyholder Samson Adejumo has been reactivated.\n",
            "Policyholder Nexford Student is already active.\n",
            "Policyholder Nexford Student has been suspended.\n",
            "\n",
            "Displaying policyholder details:\n",
            "Policyholder ID: 1, Name: Samson Adejumo, Email: Samson@gmail.com, Status: Active\n",
            "Policyholder ID: 2, Name: Nexford Student, Email: Nexford@gmail.com, Status: Suspended\n"
          ]
        }
      ]
    },
    {
      "cell_type": "code",
      "source": [
        "#Payment Management\n",
        "#Payment Class Implementation\n",
        "class Payment:\n",
        "    def __init__(self, payment_id, policyholder_name, product_id, amount, is_paid=False):\n",
        "        \"\"\"\n",
        "        Initialize a Payment instance.\n",
        "        :param payment_id: Unique ID for the payment\n",
        "        :param policyholder_name: Name of the policyholder making the payment\n",
        "        :param product_id: ID of the product associated with the payment\n",
        "        :param amount: Amount due for the payment\n",
        "        :param is_paid: Payment status (True for paid, False for unpaid)\n",
        "        \"\"\"\n",
        "        self.payment_id = payment_id\n",
        "        self.policyholder_name = policyholder_name\n",
        "        self.product_id = product_id\n",
        "        self.amount = amount\n",
        "        self.is_paid = is_paid\n",
        "\n",
        "    def process_payment(self):\n",
        "        \"\"\"\n",
        "        Process the payment.\n",
        "        \"\"\"\n",
        "        if not self.is_paid:\n",
        "            self.is_paid = True\n",
        "            print(f\"Payment {self.payment_id} for {self.policyholder_name} has been processed.\")\n",
        "        else:\n",
        "            print(f\"Payment {self.payment_id} is already marked as paid.\")\n",
        "\n",
        "    def send_payment_reminder(self):\n",
        "        \"\"\"\n",
        "        Send a reminder for an unpaid payment.\n",
        "        \"\"\"\n",
        "        if not self.is_paid:\n",
        "            print(f\"Reminder: Payment {self.payment_id} for {self.policyholder_name} is still due. \"\n",
        "                  f\"Amount: {self.amount}. Please make the payment.\")\n",
        "        else:\n",
        "            print(f\"Payment {self.payment_id} has already been completed. No reminder needed.\")\n",
        "\n",
        "    def apply_penalty(self, penalty_amount):\n",
        "        \"\"\"\n",
        "        Apply a penalty to an unpaid payment.\n",
        "        :param penalty_amount: Amount to add as a penalty\n",
        "        \"\"\"\n",
        "        if not self.is_paid:\n",
        "            self.amount += penalty_amount\n",
        "            print(f\"A penalty of {penalty_amount} has been added to Payment {self.payment_id} for {self.policyholder_name}. \"\n",
        "                  f\"New amount due: {self.amount}.\")\n",
        "        else:\n",
        "            print(f\"Payment {self.payment_id} is already paid. No penalty applied.\")\n",
        "\n",
        "    def display_payment_details(self):\n",
        "        \"\"\"\n",
        "        Display payment details.\n",
        "        \"\"\"\n",
        "        status = \"Paid\" if self.is_paid else \"Pending\"\n",
        "        print(f\"Payment ID: {self.payment_id}, Policyholder: {self.policyholder_name}, \"\n",
        "              f\"Product ID: {self.product_id}, Amount: {self.amount}, Status: {status}\")\n",
        "\n"
      ],
      "metadata": {
        "id": "YXcrK4Ayo1N4"
      },
      "execution_count": 26,
      "outputs": []
    },
    {
      "cell_type": "code",
      "source": [
        "# # Create payment instances\n",
        "payment1 = Payment(1001, \"Samson Adejumo\", 101, 500)  # Unpaid\n",
        "payment2 = Payment(1002, \"Nexford Student\", 102, 300, is_paid=True)  # Already paid\n",
        "\n",
        "# Process payments\n",
        "print(\"\\nProcessing Payments:\")\n",
        "payment1.process_payment()  # This payment will now be processed\n",
        "payment2.process_payment()  # Already paid, so no change\n",
        "\n",
        "# Send payment reminders\n",
        "print(\"\\nSending Payment Reminders:\")\n",
        "payment1.send_payment_reminder()  # Should indicate no reminder needed (already paid)\n",
        "payment3 = Payment(1003, \"Nexford Student\", 103, 400)  # A new unpaid payment\n",
        "payment3.send_payment_reminder()  # Reminder will be sent for unpaid payment\n",
        "\n",
        "# Apply penalties\n",
        "print(\"\\nApplying Penalties:\")\n",
        "payment3.apply_penalty(50)  # Penalty applied to unpaid payment\n",
        "payment2.apply_penalty(20)  # No penalty as it is already paid\n",
        "\n",
        "# Display payment details\n",
        "print(\"\\nDisplaying Payment Details:\")\n",
        "payment1.display_payment_details()  # Paid, no penalty\n",
        "payment2.display_payment_details()  # Paid, no penalty\n",
        "payment3.display_payment_details()  # Unpaid, penalty applied\n",
        "\n"
      ],
      "metadata": {
        "colab": {
          "base_uri": "https://localhost:8080/"
        },
        "id": "hf2QjOXXo_IF",
        "outputId": "eeccc703-b0c5-4806-ff72-f4955167766e"
      },
      "execution_count": 20,
      "outputs": [
        {
          "output_type": "stream",
          "name": "stdout",
          "text": [
            "\n",
            "Processing Payments:\n",
            "Payment 1001 for Samson Adejumo has been processed.\n",
            "Payment 1002 is already marked as paid.\n",
            "\n",
            "Sending Payment Reminders:\n",
            "Payment 1001 has already been completed. No reminder needed.\n",
            "Reminder: Payment 1003 for Nexford Student is still due. Amount: 400. Please make the payment.\n",
            "\n",
            "Applying Penalties:\n",
            "A penalty of 50 has been added to Payment 1003 for Nexford Student. New amount due: 450.\n",
            "Payment 1002 is already paid. No penalty applied.\n",
            "\n",
            "Displaying Payment Details:\n",
            "Payment ID: 1001, Policyholder: Samson Adejumo, Product ID: 101, Amount: 500, Status: Paid\n",
            "Payment ID: 1002, Policyholder: Nexford Student, Product ID: 102, Amount: 300, Status: Paid\n",
            "Payment ID: 1003, Policyholder: Nexford Student, Product ID: 103, Amount: 450, Status: Pending\n"
          ]
        }
      ]
    },
    {
      "cell_type": "code",
      "source": [
        "#Product Management\n",
        "#Product Class Implementation\n",
        "class Product:\n",
        "    def __init__(self, product_id, name, price, is_available=True):\n",
        "        \"\"\"\n",
        "        Initialize a Product instance.\n",
        "        :param product_id: Unique ID for the product\n",
        "        :param name: Name of the product\n",
        "        :param price: Price of the product\n",
        "        :param is_available: Availability status of the product (True for available, False for suspended)\n",
        "        \"\"\"\n",
        "        self.product_id = product_id\n",
        "        self.name = name\n",
        "        self.price = price\n",
        "        self.is_available = is_available\n",
        "\n",
        "    def create_product(self):\n",
        "        \"\"\"\n",
        "        Create a new product and display confirmation.\n",
        "        \"\"\"\n",
        "        print(f\"Product '{self.name}' (ID: {self.product_id}, Price: {self.price}) created successfully.\")\n",
        "\n",
        "    def update_product(self, name=None, price=None):\n",
        "        \"\"\"\n",
        "        Update the product's name and/or price.\n",
        "        :param name: New name for the product (optional)\n",
        "        :param price: New price for the product (optional)\n",
        "        \"\"\"\n",
        "        if name:\n",
        "            self.name = name\n",
        "        if price is not None:\n",
        "            self.price = price\n",
        "        print(f\"Product {self.product_id} updated to Name: {self.name}, Price: {self.price}.\")\n",
        "\n",
        "    def suspend_product(self):\n",
        "        \"\"\"\n",
        "        Suspend a product, making it unavailable.\n",
        "        \"\"\"\n",
        "        if self.is_available:\n",
        "            self.is_available = False\n",
        "            print(f\"Product '{self.name}' has been suspended.\")\n",
        "        else:\n",
        "            print(f\"Product '{self.name}' is already suspended.\")\n",
        "\n",
        "    def display_product_details(self):\n",
        "        \"\"\"\n",
        "        Display the product's details.\n",
        "        \"\"\"\n",
        "        status = \"Available\" if self.is_available else \"Suspended\"\n",
        "        print(f\"Product ID: {self.product_id}, Name: {self.name}, Price: {self.price}, Status: {status}\")\n"
      ],
      "metadata": {
        "id": "KNTbxZ7WnhjJ"
      },
      "execution_count": 22,
      "outputs": []
    },
    {
      "cell_type": "code",
      "source": [
        "# Create Product instances\n",
        "product1 = Product(101, \"Home Insurance\", 500)\n",
        "product2 = Product(102, \"Health Insurance\", 300)\n",
        "\n",
        "# Create products\n",
        "print(\"\\nCreating Products:\")\n",
        "product1.create_product()\n",
        "product2.create_product()\n",
        "\n",
        "# Update product details\n",
        "print(\"\\nUpdating Products:\")\n",
        "product1.update_product(name=\"Health & Wellness Insurance\", price=550)\n",
        "product2.update_product(price=350)\n",
        "\n",
        "# Suspend a product\n",
        "print(\"\\nSuspending Products:\")\n",
        "product1.suspend_product()  # Suspend the first product\n",
        "product1.suspend_product()  # Try to suspend it again (should indicate already suspended)\n",
        "\n",
        "# Display product details\n",
        "print(\"\\nDisplaying Product Details:\")\n",
        "product1.display_product_details()\n",
        "product2.display_product_details()\n"
      ],
      "metadata": {
        "colab": {
          "base_uri": "https://localhost:8080/"
        },
        "id": "ePyc4hbOrIEL",
        "outputId": "a94a90a8-0231-4247-ba31-00c4cbe077c8"
      },
      "execution_count": 23,
      "outputs": [
        {
          "output_type": "stream",
          "name": "stdout",
          "text": [
            "\n",
            "Creating Products:\n",
            "Product 'Home Insurance' (ID: 101, Price: 500) created successfully.\n",
            "Product 'Health Insurance' (ID: 102, Price: 300) created successfully.\n",
            "\n",
            "Updating Products:\n",
            "Product 101 updated to Name: Health & Wellness Insurance, Price: 550.\n",
            "Product 102 updated to Name: Health Insurance, Price: 350.\n",
            "\n",
            "Suspending Products:\n",
            "Product 'Health & Wellness Insurance' has been suspended.\n",
            "Product 'Health & Wellness Insurance' is already suspended.\n",
            "\n",
            "Displaying Product Details:\n",
            "Product ID: 101, Name: Health & Wellness Insurance, Price: 550, Status: Suspended\n",
            "Product ID: 102, Name: Health Insurance, Price: 350, Status: Available\n"
          ]
        }
      ]
    },
    {
      "cell_type": "code",
      "source": [
        "#Policyholder Demonstration\n",
        "#Create at least two policyholders who have paid for one of the products and display their account details.\n",
        "policyholder1 = Policyholder(1, \"Samson Adejumo\", \"Samson@gmail.com\")\n",
        "policyholder2 = Policyholder(2, \"Nexford Student\", \"Nexford@gmail.com\")\n",
        "\n",
        "# Register Policyholders\n",
        "policyholder1.register_policyholder()\n",
        "policyholder2.register_policyholder()\n",
        "\n",
        "# Create Products\n",
        "product1 = Product(101, \"Health Insurance\", 500)\n",
        "product2 = Product(102, \"Auto Insurance\", 300)\n",
        "\n",
        "# Create Products\n",
        "product1.create_product()\n",
        "product2.create_product()\n",
        "\n",
        "# Create Payments\n",
        "payment1 = Payment(1001, \"Samson Adejumo\", 101, 500)\n",
        "payment2 = Payment(1002, \"Nexford Student\", 102, 300)\n",
        "\n",
        "# Process Payments\n",
        "payment1.process_payment()\n",
        "payment2.process_payment()\n",
        "\n",
        "# Display Account Details\n",
        "print(\"\\nPolicyholder Details and Payments:\")\n",
        "policyholder1.display_details()\n",
        "payment1.display_payment_details()\n",
        "\n",
        "policyholder2.display_details()\n",
        "payment2.display_payment_details()\n"
      ],
      "metadata": {
        "colab": {
          "base_uri": "https://localhost:8080/"
        },
        "id": "3x2LvcsWnk_N",
        "outputId": "7a3e2dcb-c62d-4abf-89ef-7903fe5f7185"
      },
      "execution_count": 29,
      "outputs": [
        {
          "output_type": "stream",
          "name": "stdout",
          "text": [
            "Policyholder Samson Adejumo (ID: 1) registered successfully.\n",
            "Policyholder Nexford Student (ID: 2) registered successfully.\n",
            "Product Health Insurance (ID: 101) created successfully.\n",
            "Product Auto Insurance (ID: 102) created successfully.\n",
            "Payment 1001 for Samson Adejumo has been processed.\n",
            "Payment 1002 for Nexford Student has been processed.\n",
            "\n",
            "Policyholder Details and Payments:\n",
            "ID: 1, Name: Samson Adejumo, Email: Samson@gmail.com, Status: Active\n",
            "Payment ID: 1001, Policyholder: Samson Adejumo, Product ID: 101, Amount: 500, Status: Paid\n",
            "ID: 2, Name: Nexford Student, Email: Nexford@gmail.com, Status: Active\n",
            "Payment ID: 1002, Policyholder: Nexford Student, Product ID: 102, Amount: 300, Status: Paid\n"
          ]
        }
      ]
    }
  ]
}